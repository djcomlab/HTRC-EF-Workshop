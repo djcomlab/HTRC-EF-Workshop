{
 "cells": [
  {
   "cell_type": "markdown",
   "metadata": {},
   "source": [
    "# Learning the Environment"
   ]
  },
  {
   "cell_type": "markdown",
   "metadata": {},
   "source": [
    "What is this thing that you're using?"
   ]
  },
  {
   "cell_type": "markdown",
   "metadata": {},
   "source": [
    "TODO\n",
    "\n",
    "- describe very briefly what we're doing with Binder and Jupyter\n",
    "- move some of the 'using Jupyter' instruction out of Appendix 1 to here\n",
    "- explain importing (so that in the next notebook, we can just jump right into working with the feature reader)\n",
    "- add an exercise for jupyter.\n",
    "\n",
    "TODO: a few thoughts from Elizabeth on this section\n",
    "\n",
    "* We have this data already avaliable and preloaded within this repository that you can access online.\n",
    "* The data is too big to just open and manipulate, so we will be using various tools within python to explore it.  This means that we will have to ask questions of it first, rather than just viewing it.\n",
    "* You will be using a set of custom access tools via a python module for this.  These tools were written specifically for this dataset and targeting some of the most common processing tasks.  This tool makes heavy use of pandas, a separate python utility commonly used for data processing and analysis.  \n",
    "* All of this will be done inside of Jupyter Notebooks.  This is a python execution environment ideal for iteratively exploring large data, and optimised for use with pandas.  This is why we have chosen this environment.\n",
    "* This all means that you will need to consider the questions that you have of the dataset through the framework of the data model and the data tools you have access to. There will be some questions that are simply not possible to ask of this dataset, while others will need some transformation to acurately represent the data available. This is a totally normal process that many computational projects go through. "
   ]
  },
  {
   "cell_type": "code",
   "execution_count": null,
   "metadata": {},
   "outputs": [],
   "source": []
  }
 ],
 "metadata": {
  "kernelspec": {
   "display_name": "Python 3",
   "language": "python",
   "name": "python3"
  },
  "language_info": {
   "codemirror_mode": {
    "name": "ipython",
    "version": 3
   },
   "file_extension": ".py",
   "mimetype": "text/x-python",
   "name": "python",
   "nbconvert_exporter": "python",
   "pygments_lexer": "ipython3",
   "version": "3.6.7"
  }
 },
 "nbformat": 4,
 "nbformat_minor": 2
}
