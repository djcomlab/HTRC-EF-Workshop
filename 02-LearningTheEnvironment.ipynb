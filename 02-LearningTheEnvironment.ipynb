{
 "cells": [
  {
   "cell_type": "markdown",
   "metadata": {},
   "source": [
    "# Learning the Environment\n",
    "\n",
    "What is this thing that you're using right now?\n",
    "\n",
    "For this workshop, we've set up a coding environment, with the necessary tools and data already preloaded. The interface that you're using is called _Jupyter_ - which allows you to interact with code in your browser, though a format called a 'notebook'. In addition to being in the browser, Jupyter is pleasant because it's _interactive_, so you can interact with your code. The traditional way of running code involves writing a script and running the whole thing; the interactive approach used by Jupyter is better for data analysis, because you explore, tinker, and converse with your data.\n",
    "\n",
    "The HathiTrust data is too big to just open and manipulate on your own machine, so we will be using various tools within Python to explore it.  This means that we will have to ask questions of it first, rather than just viewing it. Python is a flexible programming language. If you've never programmed before, don't worry - we give you many examples, which you can follow along with and modify for your own needs. You'll learn the main skills in this workshop!\n",
    "\n",
    "You will be using a set of custom access tools via a set of Python tools written specifically for this dataset. Those tools rely on a data-science specific set of tools called *Pandas*. So, while you're learning to work with HathiTrust Extracted Feature files, you're also secretly learning common and widely useful data processing and analysis skills.\n",
    "\n",
    "This means that you will need to consider your questions through the affordances of your data model as well as the data tools you have access to. There will be some questions that are simply not possible to ask of this dataset, while others will need some transformation to acurately represent the data available. This is a totally normal process that many computational projects go through.\n",
    "\n",
    "In this workshop, we're working in the browser, with Jupyter, Python and all the corresponding data installed on somebody else's computer, but it can be run on your own computers (See [Appendix 1](././Appendix1-InstallingOnYourOwnComputer.ipynb). While you're in the browser, keep in mind that your custom code is *ephemeral* - it won't stay saved for the long term."
   ]
  },
  {
   "cell_type": "markdown",
   "metadata": {},
   "source": [
    "## Exercises\n",
    "\n",
    "TODO - jupyter and intro Python\n",
    "\n",
    "TODO - introduce importing"
   ]
  }
 ],
 "metadata": {
  "kernelspec": {
   "display_name": "Python 3",
   "language": "python",
   "name": "python3"
  },
  "language_info": {
   "codemirror_mode": {
    "name": "ipython",
    "version": 3
   },
   "file_extension": ".py",
   "mimetype": "text/x-python",
   "name": "python",
   "nbconvert_exporter": "python",
   "pygments_lexer": "ipython3",
   "version": "3.7.3"
  }
 },
 "nbformat": 4,
 "nbformat_minor": 2
}
