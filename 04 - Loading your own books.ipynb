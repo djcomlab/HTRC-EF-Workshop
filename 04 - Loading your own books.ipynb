{
 "cells": [
  {
   "cell_type": "code",
   "execution_count": 1,
   "metadata": {},
   "outputs": [],
   "source": [
    "%matplotlib inline\n",
    "from htrc_features import FeatureReader"
   ]
  },
  {
   "cell_type": "markdown",
   "metadata": {},
   "source": [
    "# Finding and Analyzing Your Own Books\n",
    "\n",
    "So far, we have supplied a set of files. However, the HTRC Feature Reader allows you to read any HathiTrust Extracted Features file that you download, and it will even download files for you if you know the id.\n",
    "\n",
    "To recall, this is how we have read a list of files up to now:"
   ]
  },
  {
   "cell_type": "code",
   "execution_count": 2,
   "metadata": {},
   "outputs": [
    {
     "name": "stdout",
     "output_type": "stream",
     "text": [
      "Title: June / by Edith Barnard Delano ; with illustrations.\n",
      "Title: You never know your luck; being the story of a matrimonial deserter, by Gilbert Parker ... illustrated by W.L. Jacobs.\n"
     ]
    }
   ],
   "source": [
    "paths = ['data/sample-file1.json.bz2', 'data/sample-file2.json.bz2'] # our two files\n",
    "fr = FeatureReader(paths)                                            # passing these paths to the FeatureReader to open and load\n",
    "for vol in fr.volumes():                                             # now we can iterate over them\n",
    "    print(\"Title: \" + vol.title)     "
   ]
  },
  {
   "cell_type": "markdown",
   "metadata": {},
   "source": [
    "If you want to read just one file, you can use the following shortened code:"
   ]
  },
  {
   "cell_type": "code",
   "execution_count": 5,
   "metadata": {},
   "outputs": [
    {
     "data": {
      "text/html": [
       "<strong><a href='http://hdl.handle.net/2027/nyp.33433074811310'>June / by Edith Barnard Delano ; with illustrations.</a></strong> by <em>Delano, Edith Barnard 1874-1946 ,Storer, Florence. ill ,Riverside Press prt ,Houghton Mifflin Company pbl </em> (1916, 274 pages) - <code>nyp.33433074811310</code>"
      ],
      "text/plain": [
       "<htrc_features.feature_reader.Volume at 0x249604f9d30>"
      ]
     },
     "execution_count": 5,
     "metadata": {},
     "output_type": "execute_result"
    }
   ],
   "source": [
    "vol = FeatureReader('data/sample-file1.json.bz2').first()\n",
    "vol"
   ]
  },
  {
   "cell_type": "markdown",
   "metadata": {},
   "source": [
    "## Loading By Id\n",
    "\n",
    "If you know the HathiTrust ID for a book, you can load the volume like this:"
   ]
  },
  {
   "cell_type": "code",
   "execution_count": null,
   "metadata": {},
   "outputs": [],
   "source": [
    "vol = FeatureReader(ids=['....']).first()\n",
    "vol"
   ]
  },
  {
   "cell_type": "markdown",
   "metadata": {},
   "source": [
    "A few things to note about this:\n",
    "- It will be slower, as your computer needs to download the file from the HathiTrust Research Center first\n",
    "- Most volumes in the HathiTrust will be available in this way, but not all. This is because the dataset is not updated as quickly as the full Digital Library, so newly added holdings may not have corresponding dataset files."
   ]
  },
  {
   "cell_type": "markdown",
   "metadata": {},
   "source": [
    "# Finding a Book"
   ]
  },
  {
   "cell_type": "markdown",
   "metadata": {},
   "source": [
    "TODO - instructions and screenshots needed"
   ]
  },
  {
   "cell_type": "markdown",
   "metadata": {},
   "source": [
    "## Exercises\n",
    "\n",
    "TODO - answer a question about two books (e.g. does Book A or Book B talk more about X)"
   ]
  }
 ],
 "metadata": {
  "kernelspec": {
   "display_name": "Python 3",
   "language": "python",
   "name": "python3"
  },
  "language_info": {
   "codemirror_mode": {
    "name": "ipython",
    "version": 3
   },
   "file_extension": ".py",
   "mimetype": "text/x-python",
   "name": "python",
   "nbconvert_exporter": "python",
   "pygments_lexer": "ipython3",
   "version": "3.7.3"
  }
 },
 "nbformat": 4,
 "nbformat_minor": 2
}
