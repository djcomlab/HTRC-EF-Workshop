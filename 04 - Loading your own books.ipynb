{
 "cells": [
  {
   "cell_type": "code",
   "execution_count": 1,
   "metadata": {},
   "outputs": [],
   "source": [
    "%matplotlib inline\n",
    "from htrc_features import FeatureReader"
   ]
  },
  {
   "cell_type": "markdown",
   "metadata": {},
   "source": [
    "# Finding and Analyzing Your Own Books\n",
    "\n",
    "So far, we have supplied a set of files. However, the HTRC Feature Reader allows you to read any HathiTrust Extracted Features file that you download, and it will even download files for you if you know the id.\n",
    "\n",
    "To recall, this is how we have read a list of files up to now:"
   ]
  },
  {
   "cell_type": "code",
   "execution_count": 2,
   "metadata": {},
   "outputs": [
    {
     "name": "stdout",
     "output_type": "stream",
     "text": [
      "Title: June / by Edith Barnard Delano ; with illustrations.\n",
      "Title: You never know your luck; being the story of a matrimonial deserter, by Gilbert Parker ... illustrated by W.L. Jacobs.\n"
     ]
    }
   ],
   "source": [
    "paths = ['data/sample-file1.json.bz2', 'data/sample-file2.json.bz2'] # our two files\n",
    "fr = FeatureReader(paths)                                            # passing these paths to the FeatureReader to open and load\n",
    "for vol in fr.volumes():                                             # now we can iterate over them\n",
    "    print(\"Title: \" + vol.title)     "
   ]
  },
  {
   "cell_type": "markdown",
   "metadata": {},
   "source": [
    "If you want to read just one file, you can use the following shortened code:"
   ]
  },
  {
   "cell_type": "code",
   "execution_count": 3,
   "metadata": {},
   "outputs": [
    {
     "data": {
      "text/html": [
       "<strong><a href='http://hdl.handle.net/2027/nyp.33433074811310'>June / by Edith Barnard Delano ; with illustrations.</a></strong> by <em>Delano, Edith Barnard 1874-1946 ,Storer, Florence. ill ,Riverside Press prt ,Houghton Mifflin Company pbl </em> (1916, 274 pages) - <code>nyp.33433074811310</code>"
      ],
      "text/plain": [
       "<htrc_features.feature_reader.Volume at 0x11c0552e8>"
      ]
     },
     "execution_count": 3,
     "metadata": {},
     "output_type": "execute_result"
    }
   ],
   "source": [
    "vol = FeatureReader('data/sample-file1.json.bz2').first()\n",
    "vol"
   ]
  },
  {
   "cell_type": "markdown",
   "metadata": {},
   "source": [
    "## Loading By Id\n",
    "\n",
    "You can grab the ID from the HathiTrust webpage dictly. \n",
    "\n",
    "1. Go to http://www.hathitrust.org\n",
    "2. Add any search keyword you'd like.\n",
    "3. Pick one of the results, and click on the \"Full View\" (might also say \"Restricted View\") to see the volume's full record.\n",
    "4. In the URL, you should see something cryptic after `pt?id=`.  For example:  `https://babel.hathitrust.org/cgi/pt?id=coo.31924003343153&view=1up&seq=9`.  I would copy just `coo.3192400334315`.  Note that there are some books with IDs that are pretty different, so you may have to go back and select a different book.\n",
    "5. Paste that ID in the `.....` area in the cell below and evaluate the code.\n",
    "\n",
    "If you know the HathiTrust ID for a book, you can load the volume like this:"
   ]
  },
  {
   "cell_type": "code",
   "execution_count": 4,
   "metadata": {},
   "outputs": [
    {
     "data": {
      "text/html": [
       "<strong><a href='http://hdl.handle.net/2027/coo.31924003343153'>The reptiles / by Archie Carr and the editors of Life.</a></strong> by <em>Carr, Archie Fairly 1909-1987 </em> (1963, 206 pages) - <code>coo.31924003343153</code>"
      ],
      "text/plain": [
       "<htrc_features.feature_reader.Volume at 0x10adb4d30>"
      ]
     },
     "execution_count": 4,
     "metadata": {},
     "output_type": "execute_result"
    }
   ],
   "source": [
    "vol = FeatureReader(ids=['....']).first()\n",
    "vol"
   ]
  },
  {
   "cell_type": "markdown",
   "metadata": {},
   "source": [
    "A few things to note about this:\n",
    "- It will be slower, as your computer needs to download the file from the HathiTrust Research Center first\n",
    "- Most volumes in the HathiTrust will be available in this way, but not all. This is because the dataset is not updated as quickly as the full Digital Library, so newly added holdings may not have corresponding dataset files."
   ]
  },
  {
   "cell_type": "markdown",
   "metadata": {},
   "source": [
    "## Exercises\n",
    "\n",
    "Let's think about two books, any you'd like to compare.  Like, how many pages are in Harry Potter book 1 vs book 7?  You could even add all the other books!\n",
    "\n",
    "Look up the IDs for all the books, used the code snippet from before.\n",
    "\n",
    "Save each book as a different variable, look up the value you'd like, and print them all out."
   ]
  },
  {
   "cell_type": "code",
   "execution_count": null,
   "metadata": {},
   "outputs": [],
   "source": []
  }
 ],
 "metadata": {
  "kernelspec": {
   "display_name": "Python 3",
   "language": "python",
   "name": "python3"
  },
  "language_info": {
   "codemirror_mode": {
    "name": "ipython",
    "version": 3
   },
   "file_extension": ".py",
   "mimetype": "text/x-python",
   "name": "python",
   "nbconvert_exporter": "python",
   "pygments_lexer": "ipython3",
   "version": "3.7.3"
  }
 },
 "nbformat": 4,
 "nbformat_minor": 2
}
