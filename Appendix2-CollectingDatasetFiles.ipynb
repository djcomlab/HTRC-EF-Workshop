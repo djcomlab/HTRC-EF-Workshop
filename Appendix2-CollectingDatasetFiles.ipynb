{
 "cells": [
  {
   "cell_type": "markdown",
   "metadata": {},
   "source": [
    "# Appendix: Downloading custom files via rsync\n",
    "\n",
    "The full HTRC Extracted Features dataset is accessible using *rsync*, a Unix command line program for syncing files. It is already preinstalled on Linux or Mac OS. Windows users need to use *rsync* by downloading a program such as [https://cygwin.com/](Cygwin), which provides a Unix-like command line environment in Windows.\n",
    "\n",
    "To download all *4 TB* comprising the EF dataset, you can use this command (be aware the full transfer will take a very long time):\n",
    "\n",
    "```bash\n",
    "rsync -rv data.analytics.hathitrust.org::features/ .\n",
    "```\n",
    "\n",
    "This command recurses (the `-r` flag) through all the folders on the HTRC server, and syncs all the files to a location on your system; in this case the `.` at the end means \"the current folder\". The `-v` flag means `--verbose`, which tells rsync to show you more information.\n",
    " \n",
    "It is possible to sync individual files by specifying a full file path. Files are organized in a [PairTree structure](https://wiki.ucop.edu/display/Curation/PairTree), meaning that you can find an exact dataset file from a volume's HathiTrust id. The HTRC Feature Reader has a tools and instructions for [getting the path for a volume](https://github.com/htrc/htrc-feature-reader/blob/master/examples/ID_to_Rsync_Link.ipynb). A list of all file paths is available:\n",
    "\n",
    "```bash\n",
    "rsync -azv data.analytics.hathitrust.org::features/listing/file-listing.txt .\n",
    "```\n",
    "\n",
    "Finally, it is possible to download many files from a list. To try, we've put together lists for public-domain [fiction](http://data.analytics.hathitrust.org/genre/fiction_paths.txt), [drama](http://data.analytics.hathitrust.org/genre/drama_paths.txt), and [poetry](http://data.analytics.hathitrust.org/genre/poetry_paths.txt) (Underwood 2014). For example:\n",
    "\n",
    "```bash\n",
    "rsync -azv --files-from=fiction_paths.txt data.analytics.hathitrust.org::features/ .\n",
    "```"
   ]
  }
 ],
 "metadata": {
  "kernelspec": {
   "display_name": "Python 3",
   "language": "python",
   "name": "python3"
  },
  "language_info": {
   "codemirror_mode": {
    "name": "ipython",
    "version": 3
   },
   "file_extension": ".py",
   "mimetype": "text/x-python",
   "name": "python",
   "nbconvert_exporter": "python",
   "pygments_lexer": "ipython3",
   "version": "3.6.7"
  }
 },
 "nbformat": 4,
 "nbformat_minor": 2
}
